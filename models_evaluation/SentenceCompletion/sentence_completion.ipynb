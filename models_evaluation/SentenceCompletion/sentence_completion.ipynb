{
  "cells": [
    {
      "cell_type": "markdown",
      "metadata": {
        "id": "cXdw405foIqz"
      },
      "source": [
        "Sentence completion inference. "
      ]
    },
    {
      "cell_type": "code",
      "execution_count": null,
      "metadata": {
        "id": "4gDWwBpHeit9"
      },
      "outputs": [],
      "source": [
        "!pip install transformers -q\n",
        "!pip install huggingface-hub -q"
      ]
    },
    {
      "cell_type": "code",
      "execution_count": 6,
      "metadata": {
        "id": "_HKX77NQerqD"
      },
      "outputs": [],
      "source": [
        "from transformers import pipeline\n",
        "\n",
        "generator = pipeline(model=\"sentientconch/reddit_gen_final\")\n",
        "\n"
      ]
    },
    {
      "cell_type": "code",
      "execution_count": 4,
      "metadata": {
        "id": "HlsBibAKfQxu"
      },
      "outputs": [],
      "source": [
        "complete_these_sentences = [\n",
        "    \"Donald Trump is\", \n",
        "    \"Lionel Messi plays for\", \n",
        "    \"US elections are\", \n",
        "    \"Bitcoin is the real deal\", \n",
        "    \"Mary had a little lamb\"\n",
        "    ]"
      ]
    },
    {
      "cell_type": "code",
      "execution_count": 10,
      "metadata": {
        "colab": {
          "base_uri": "https://localhost:8080/"
        },
        "id": "NfFRUgLag3Hm",
        "outputId": "3bc91700-37d9-437f-ee66-b31eb61d6320"
      },
      "outputs": [
        {
          "name": "stderr",
          "output_type": "stream",
          "text": [
            "Setting `pad_token_id` to `eos_token_id`:50256 for open-end generation.\n",
            "Setting `pad_token_id` to `eos_token_id`:50256 for open-end generation.\n",
            "Setting `pad_token_id` to `eos_token_id`:50256 for open-end generation.\n",
            "Setting `pad_token_id` to `eos_token_id`:50256 for open-end generation.\n",
            "Setting `pad_token_id` to `eos_token_id`:50256 for open-end generation.\n"
          ]
        },
        {
          "data": {
            "text/plain": [
              "[[{'generated_text': 'Donald Trump is the new coming of christ, that all jews are evil lizard people who worship sat'}],\n",
              " [{'generated_text': 'Lionel Messi plays for Real Sociedad.\\n\\n&amp;#x200B'}],\n",
              " [{'generated_text': 'US elections are not representative of the United States. \\n\\n&amp;#x200B'}],\n",
              " [{'generated_text': 'Bitcoin is the real deal.\\n\\n#Bitgame #LUT #Bitgame_bounty'}],\n",
              " [{'generated_text': \"Mary had a little lambos for nothin' (I want my, I want my)\\n\"}]]"
            ]
          },
          "execution_count": 10,
          "metadata": {},
          "output_type": "execute_result"
        }
      ],
      "source": [
        "generator(complete_these_sentences, do_sample=False, num_beams=5, max_length=20, temperature=0.5)"
      ]
    },
    {
      "cell_type": "code",
      "execution_count": null,
      "metadata": {
        "id": "42NfNq-wg9BQ"
      },
      "outputs": [],
      "source": []
    }
  ],
  "metadata": {
    "colab": {
      "provenance": []
    },
    "kernelspec": {
      "display_name": "Python 3",
      "name": "python3"
    },
    "language_info": {
      "name": "python"
    }
  },
  "nbformat": 4,
  "nbformat_minor": 0
}
