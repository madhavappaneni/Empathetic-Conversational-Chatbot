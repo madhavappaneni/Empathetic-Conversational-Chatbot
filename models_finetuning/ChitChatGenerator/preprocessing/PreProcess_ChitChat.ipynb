{
 "cells": [
  {
   "cell_type": "code",
   "execution_count": 13,
   "metadata": {},
   "outputs": [],
   "source": [
    "import chitchat_dataset as ccc\n",
    "import pandas as pd\n",
    "\n",
    "raw_dataset = ccc.Dataset()\n",
    "\n",
    "datasets = (list(raw_dataset.values()))\n",
    "\n",
    "train_data = datasets[:int(len(datasets) * 0.8)]\n",
    "val_data = datasets[int(len(datasets) * 0.8):int(len(datasets) * 0.9)]\n",
    "test_data = datasets[int(len(datasets) * 0.9):]\n"
   ]
  },
  {
   "cell_type": "code",
   "execution_count": 14,
   "metadata": {},
   "outputs": [],
   "source": [
    "def save_files(df):\n",
    "    data_upd = []\n",
    "    max_hist_len = 2\n",
    "    for idx, convo in enumerate(df):\n",
    "        history = []\n",
    "        messages = convo['messages']\n",
    "        for idx, message in enumerate(messages):\n",
    "            if idx == 0:\n",
    "                continue\n",
    "            prev_message = ' </s> '.join([item['text']\n",
    "                                        for item in messages[idx - 1]])\n",
    "            curr_message = ' </s> '.join([item['text'] for item in message])\n",
    "            history.append(prev_message)\n",
    "            if idx % 2 == 0:\n",
    "                context = \" </s> \".join(history[-max_hist_len:])\n",
    "                data_upd.append(\n",
    "                    {'conversation': {'input_text': context, 'label': curr_message}})\n",
    "\n",
    "    out_df = pd.DataFrame(columns=['conversation'], data=data_upd)\n",
    "    return out_df\n"
   ]
  },
  {
   "cell_type": "code",
   "execution_count": 19,
   "metadata": {},
   "outputs": [],
   "source": [
    "train_data_out = save_files(train_data)\n",
    "test_data_out = save_files(test_data)\n",
    "val_data_out = save_files(val_data)\n",
    "train_data_out.to_pickle('./datasets/train.pkl')\n",
    "test_data_out.to_pickle('./datasets/test.pkl')\n",
    "val_data_out.to_pickle('./datasets/val.pkl')\n",
    "\n",
    "train_data_out[:100].to_pickle('./small/train.pkl')\n",
    "test_data_out[:100].to_pickle('./small/test.pkl')\n",
    "val_data_out[:100].to_pickle('./small/val.pkl')\n"
   ]
  }
 ],
 "metadata": {
  "kernelspec": {
   "display_name": "Python 3",
   "language": "python",
   "name": "python3"
  },
  "language_info": {
   "codemirror_mode": {
    "name": "ipython",
    "version": 3
   },
   "file_extension": ".py",
   "mimetype": "text/x-python",
   "name": "python",
   "nbconvert_exporter": "python",
   "pygments_lexer": "ipython3",
   "version": "3.9.6"
  }
 },
 "nbformat": 4,
 "nbformat_minor": 2
}
