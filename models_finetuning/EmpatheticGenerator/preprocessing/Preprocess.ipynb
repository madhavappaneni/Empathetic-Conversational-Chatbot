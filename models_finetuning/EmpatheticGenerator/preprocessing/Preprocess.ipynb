{
 "cells": [
  {
   "cell_type": "code",
   "execution_count": 1,
   "metadata": {},
   "outputs": [],
   "source": [
    "import pandas as pd\n"
   ]
  },
  {
   "cell_type": "code",
   "execution_count": 2,
   "metadata": {},
   "outputs": [
    {
     "name": "stderr",
     "output_type": "stream",
     "text": [
      "Found cached dataset empathetic_dialogues (/Users/madhavappaneni/.cache/huggingface/datasets/empathetic_dialogues/default/0.1.0/09bbeed3882a67db98c73952fb3c1c9a85af83dc78f81454c2454382fd03f6cf)\n"
     ]
    },
    {
     "data": {
      "application/vnd.jupyter.widget-view+json": {
       "model_id": "6a5270933634407c947374f134719789",
       "version_major": 2,
       "version_minor": 0
      },
      "text/plain": [
       "  0%|          | 0/3 [00:00<?, ?it/s]"
      ]
     },
     "metadata": {},
     "output_type": "display_data"
    }
   ],
   "source": [
    "from datasets import load_dataset\n",
    "\n",
    "dataset = load_dataset(\"empathetic_dialogues\")\n"
   ]
  },
  {
   "cell_type": "code",
   "execution_count": 3,
   "metadata": {},
   "outputs": [],
   "source": [
    "raw_train_data = dataset['train']\n",
    "train_data = pd.DataFrame(raw_train_data)\n",
    "raw_test_data = dataset['test']\n",
    "test_data = pd.DataFrame(raw_test_data)\n",
    "raw_val_data = dataset['validation']\n",
    "val_data = pd.DataFrame(raw_val_data)\n"
   ]
  },
  {
   "cell_type": "code",
   "execution_count": 4,
   "metadata": {},
   "outputs": [],
   "source": [
    "train_data['utterance'] = train_data['utterance'].str.replace(\"_comma_\", \",\")\n",
    "val_data['utterance'] = val_data['utterance'].str.replace(\"_comma_\", \",\")\n",
    "test_data['utterance'] = test_data['utterance'].str.replace(\"_comma_\", \",\")\n"
   ]
  },
  {
   "cell_type": "code",
   "execution_count": 15,
   "metadata": {},
   "outputs": [],
   "source": [
    "def save_files(df):\n",
    "    df = df.groupby('conv_id')['utterance'].agg(list)\n",
    "    data = []\n",
    "    for idx in range(len(df)):\n",
    "        row = df[idx]\n",
    "        for i in range(1, len(row), 2):\n",
    "            data.append(\n",
    "                {'conversation': {'input_text': row[i-1], 'label': row[i]}})\n",
    "    out_df = pd.DataFrame(columns=['conversation'], data=data)\n",
    "    return out_df\n"
   ]
  },
  {
   "cell_type": "code",
   "execution_count": 16,
   "metadata": {},
   "outputs": [],
   "source": [
    "train_data_out = save_files(train_data)\n",
    "test_data_out = save_files(test_data)\n",
    "val_data_out = save_files(val_data)\n",
    "train_data_out.to_pickle('train.pkl')\n",
    "test_data_out.to_pickle('test.pkl')\n",
    "val_data_out.to_pickle('val.pkl')\n"
   ]
  },
  {
   "cell_type": "code",
   "execution_count": null,
   "metadata": {},
   "outputs": [],
   "source": []
  }
 ],
 "metadata": {
  "kernelspec": {
   "display_name": "Python 3",
   "language": "python",
   "name": "python3"
  },
  "language_info": {
   "codemirror_mode": {
    "name": "ipython",
    "version": 3
   },
   "file_extension": ".py",
   "mimetype": "text/x-python",
   "name": "python",
   "nbconvert_exporter": "python",
   "pygments_lexer": "ipython3",
   "version": "3.9.6"
  },
  "orig_nbformat": 4
 },
 "nbformat": 4,
 "nbformat_minor": 2
}
